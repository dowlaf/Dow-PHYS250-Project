{
 "cells": [
  {
   "cell_type": "markdown",
   "id": "139926a4",
   "metadata": {},
   "source": [
    "# Ueda's Oscillator\n",
    "### Dow's final project for PHYS 250, Autumn 2024\n",
    "\n",
    "\n",
    "This notebook will (at some point) be made interactive. For now, it is a series of code blocks which run computations and generate visualizations for the purposes of my poster."
   ]
  },
  {
   "cell_type": "markdown",
   "id": "a48abe73",
   "metadata": {},
   "source": [
    "### What I definitely want to cover\n",
    "- postiion and phase space diagrams (ie time against position and time derivative against position, respectively)\n",
    "    - good example [here](https://demonstrations.wolfram.com/DynamicalBehaviorOfADuffingOscillator/) and simple but nice one [here](https://demonstrations.wolfram.com/ForcedOscillatorWithDamping/)\n",
    "- another good example of a short thing on the Duffing Oscillator [here](https://demonstrations.wolfram.com/DuffingOscillator/)\n",
    "- Poincaré (first-return) sections\n",
    "- bifurcation diagrams to analyze transition to chaos/sensitivity to initial conditions \n",
    "    - numerically compute lyapunov exponents\n",
    "\n",
    "\n",
    "\n",
    "#### Maybe cover\n",
    "- Hopf bifurcations\n",
    "    - requires finding eigenevalues, so maybe pretty complicated\n",
    "- animate a flow map\n",
    "    "
   ]
  }
 ],
 "metadata": {
  "kernelspec": {
   "display_name": "Python 3 (ipykernel)",
   "language": "python",
   "name": "python3"
  },
  "language_info": {
   "codemirror_mode": {
    "name": "ipython",
    "version": 3
   },
   "file_extension": ".py",
   "mimetype": "text/x-python",
   "name": "python",
   "nbconvert_exporter": "python",
   "pygments_lexer": "ipython3",
   "version": "3.9.7"
  }
 },
 "nbformat": 4,
 "nbformat_minor": 5
}
